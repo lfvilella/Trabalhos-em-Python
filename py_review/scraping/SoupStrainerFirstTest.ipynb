{
 "cells": [
  {
   "cell_type": "code",
   "execution_count": 2,
   "metadata": {},
   "outputs": [],
   "source": [
    "import re\n",
    "from bs4 import BeautifulSoup, SoupStrainer"
   ]
  },
  {
   "cell_type": "code",
   "execution_count": 3,
   "metadata": {},
   "outputs": [],
   "source": [
    "simple_html = \"\"\"\n",
    "<html>\n",
    "<head>\n",
    "    <title>The title</title>\n",
    "</head>\n",
    "<body>\n",
    "    <h1 id=\"1\">THE TITLE ID</h1>\n",
    "    <p class=\"title\">\n",
    "        <b>The Dormouse's story</b>\n",
    "    </p>\n",
    "\n",
    "    <p class=\"story\">\n",
    "        Once upon a time there were three little sister; and their name were:\n",
    "        <a href=\"http://example.com/elsie\" class=\"sister\" alt=\"link\">Elsie</a>,\n",
    "        <a class=\"without_class\" id='elsieId'>Elsie Without Href</a>,\n",
    "        <a href=\"http://example.com/lacie\" class=\"sister\">Lacie</a> and\n",
    "        <a href=\"http://example.com/tillie\" class=\"sister\" alt=\"link\">Tillie</a>;\n",
    "        and they lived at the bottom of well.\n",
    "    </p>\n",
    "\n",
    "    <p class=\"story\">The story continues</p>\n",
    "</body>\n",
    "</html>\n",
    "\"\"\""
   ]
  },
  {
   "cell_type": "code",
   "execution_count": 4,
   "metadata": {},
   "outputs": [],
   "source": [
    "link_tag = SoupStrainer(\"a\")"
   ]
  },
  {
   "cell_type": "code",
   "execution_count": 6,
   "metadata": {},
   "outputs": [],
   "source": [
    "soup = BeautifulSoup(simple_html, 'lxml', parse_only=link_tag)"
   ]
  },
  {
   "cell_type": "code",
   "execution_count": 7,
   "metadata": {},
   "outputs": [
    {
     "name": "stdout",
     "output_type": "stream",
     "text": [
      "<a alt=\"link\" class=\"sister\" href=\"http://example.com/elsie\">\n",
      " Elsie\n",
      "</a>\n",
      "<a class=\"without_class\" id=\"elsieId\">\n",
      " Elsie Without Href\n",
      "</a>\n",
      "<a class=\"sister\" href=\"http://example.com/lacie\">\n",
      " Lacie\n",
      "</a>\n",
      "<a alt=\"link\" class=\"sister\" href=\"http://example.com/tillie\">\n",
      " Tillie\n",
      "</a>\n"
     ]
    }
   ],
   "source": [
    "print(soup.prettify())"
   ]
  },
  {
   "cell_type": "code",
   "execution_count": 8,
   "metadata": {},
   "outputs": [],
   "source": [
    "alt_attr = SoupStrainer(alt = \"link\")"
   ]
  },
  {
   "cell_type": "code",
   "execution_count": 10,
   "metadata": {},
   "outputs": [
    {
     "name": "stdout",
     "output_type": "stream",
     "text": [
      "<a alt=\"link\" class=\"sister\" href=\"http://example.com/elsie\">\n",
      " Elsie\n",
      "</a>\n",
      "<a alt=\"link\" class=\"sister\" href=\"http://example.com/tillie\">\n",
      " Tillie\n",
      "</a>\n"
     ]
    }
   ],
   "source": [
    "soup_with_alt = BeautifulSoup(simple_html, 'lxml', parse_only=alt_attr)\n",
    "print(soup_with_alt.prettify())"
   ]
  },
  {
   "cell_type": "code",
   "execution_count": null,
   "metadata": {},
   "outputs": [],
   "source": []
  }
 ],
 "metadata": {
  "kernelspec": {
   "display_name": "Python 3",
   "language": "python",
   "name": "python3"
  },
  "language_info": {
   "codemirror_mode": {
    "name": "ipython",
    "version": 3
   },
   "file_extension": ".py",
   "mimetype": "text/x-python",
   "name": "python",
   "nbconvert_exporter": "python",
   "pygments_lexer": "ipython3",
   "version": "3.7.2"
  }
 },
 "nbformat": 4,
 "nbformat_minor": 4
}
