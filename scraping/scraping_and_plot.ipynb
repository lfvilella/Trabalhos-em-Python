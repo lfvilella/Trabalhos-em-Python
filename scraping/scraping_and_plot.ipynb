{
 "cells": [
  {
   "cell_type": "code",
   "execution_count": 133,
   "metadata": {},
   "outputs": [
    {
     "name": "stdout",
     "output_type": "stream",
     "text": [
      "Requirement already satisfied: requests in ./scrapingVenv/lib/python3.7/site-packages (2.23.0)\n",
      "Requirement already satisfied: certifi>=2017.4.17 in ./scrapingVenv/lib/python3.7/site-packages (from requests) (2020.4.5.1)\n",
      "Requirement already satisfied: idna<3,>=2.5 in ./scrapingVenv/lib/python3.7/site-packages (from requests) (2.9)\n",
      "Requirement already satisfied: chardet<4,>=3.0.2 in ./scrapingVenv/lib/python3.7/site-packages (from requests) (3.0.4)\n",
      "Requirement already satisfied: urllib3!=1.25.0,!=1.25.1,<1.26,>=1.21.1 in ./scrapingVenv/lib/python3.7/site-packages (from requests) (1.25.9)\n",
      "Requirement already up-to-date: matplotlib in ./scrapingVenv/lib/python3.7/site-packages (3.2.1)\n",
      "Requirement already satisfied, skipping upgrade: numpy>=1.11 in ./scrapingVenv/lib/python3.7/site-packages (from matplotlib) (1.18.3)\n",
      "Requirement already satisfied, skipping upgrade: kiwisolver>=1.0.1 in ./scrapingVenv/lib/python3.7/site-packages (from matplotlib) (1.2.0)\n",
      "Requirement already satisfied, skipping upgrade: python-dateutil>=2.1 in ./scrapingVenv/lib/python3.7/site-packages (from matplotlib) (2.8.1)\n",
      "Requirement already satisfied, skipping upgrade: cycler>=0.10 in ./scrapingVenv/lib/python3.7/site-packages (from matplotlib) (0.10.0)\n",
      "Requirement already satisfied, skipping upgrade: pyparsing!=2.0.4,!=2.1.2,!=2.1.6,>=2.0.1 in ./scrapingVenv/lib/python3.7/site-packages (from matplotlib) (2.4.7)\n",
      "Requirement already satisfied, skipping upgrade: six>=1.5 in ./scrapingVenv/lib/python3.7/site-packages (from python-dateutil>=2.1->matplotlib) (1.14.0)\n",
      "Requirement already satisfied: numpy in ./scrapingVenv/lib/python3.7/site-packages (1.18.3)\n",
      "Collecting scipy\n",
      "  Downloading scipy-1.4.1-cp37-cp37m-macosx_10_6_intel.whl (28.4 MB)\n",
      "\u001b[K     |████████████████████████████████| 28.4 MB 9.6 MB/s eta 0:00:01     |████████████████▉               | 15.0 MB 3.0 MB/s eta 0:00:05     |███████████████████             | 16.8 MB 3.0 MB/s eta 0:00:04     |█████████████████████████▏      | 22.3 MB 6.5 MB/s eta 0:00:01     |█████████████████████████████▍  | 26.1 MB 9.6 MB/s eta 0:00:01\n",
      "\u001b[?25hRequirement already satisfied: matplotlib in ./scrapingVenv/lib/python3.7/site-packages (3.2.1)\n",
      "Requirement already satisfied: ipython in ./scrapingVenv/lib/python3.7/site-packages (7.13.0)\n",
      "Collecting jupyter\n",
      "  Downloading jupyter-1.0.0-py2.py3-none-any.whl (2.7 kB)\n",
      "Collecting pandas\n",
      "  Downloading pandas-1.0.3-cp37-cp37m-macosx_10_9_x86_64.whl (10.0 MB)\n",
      "\u001b[K     |████████████████████████████████| 10.0 MB 9.3 MB/s eta 0:00:01    |█████▍                          | 1.7 MB 2.6 MB/s eta 0:00:04     |█████████▍                      | 2.9 MB 2.6 MB/s eta 0:00:03\n",
      "\u001b[?25hCollecting sympy\n",
      "  Downloading sympy-1.5.1-py2.py3-none-any.whl (5.6 MB)\n",
      "\u001b[K     |████████████████████████████████| 5.6 MB 5.9 MB/s eta 0:00:01\n",
      "\u001b[?25hCollecting nose\n",
      "  Downloading nose-1.3.7-py3-none-any.whl (154 kB)\n",
      "\u001b[K     |████████████████████████████████| 154 kB 11.2 MB/s eta 0:00:01\n",
      "\u001b[?25hRequirement already satisfied: python-dateutil>=2.1 in ./scrapingVenv/lib/python3.7/site-packages (from matplotlib) (2.8.1)\n",
      "Requirement already satisfied: kiwisolver>=1.0.1 in ./scrapingVenv/lib/python3.7/site-packages (from matplotlib) (1.2.0)\n",
      "Requirement already satisfied: cycler>=0.10 in ./scrapingVenv/lib/python3.7/site-packages (from matplotlib) (0.10.0)\n",
      "Requirement already satisfied: pyparsing!=2.0.4,!=2.1.2,!=2.1.6,>=2.0.1 in ./scrapingVenv/lib/python3.7/site-packages (from matplotlib) (2.4.7)\n",
      "Requirement already satisfied: setuptools>=18.5 in ./scrapingVenv/lib/python3.7/site-packages (from ipython) (41.2.0)\n",
      "Requirement already satisfied: pexpect; sys_platform != \"win32\" in ./scrapingVenv/lib/python3.7/site-packages (from ipython) (4.8.0)\n",
      "Requirement already satisfied: jedi>=0.10 in ./scrapingVenv/lib/python3.7/site-packages (from ipython) (0.17.0)\n",
      "Requirement already satisfied: prompt-toolkit!=3.0.0,!=3.0.1,<3.1.0,>=2.0.0 in ./scrapingVenv/lib/python3.7/site-packages (from ipython) (3.0.5)\n",
      "Requirement already satisfied: decorator in ./scrapingVenv/lib/python3.7/site-packages (from ipython) (4.4.2)\n",
      "Requirement already satisfied: appnope; sys_platform == \"darwin\" in ./scrapingVenv/lib/python3.7/site-packages (from ipython) (0.1.0)\n",
      "Requirement already satisfied: pickleshare in ./scrapingVenv/lib/python3.7/site-packages (from ipython) (0.7.5)\n",
      "Requirement already satisfied: pygments in ./scrapingVenv/lib/python3.7/site-packages (from ipython) (2.6.1)\n",
      "Requirement already satisfied: traitlets>=4.2 in ./scrapingVenv/lib/python3.7/site-packages (from ipython) (4.3.3)\n",
      "Requirement already satisfied: backcall in ./scrapingVenv/lib/python3.7/site-packages (from ipython) (0.1.0)\n",
      "Requirement already satisfied: ipykernel in ./scrapingVenv/lib/python3.7/site-packages (from jupyter) (5.2.1)\n",
      "Collecting jupyter-console\n",
      "  Downloading jupyter_console-6.1.0-py2.py3-none-any.whl (21 kB)\n",
      "Requirement already satisfied: notebook in ./scrapingVenv/lib/python3.7/site-packages (from jupyter) (6.0.3)\n",
      "Collecting qtconsole\n",
      "  Downloading qtconsole-4.7.3-py2.py3-none-any.whl (117 kB)\n",
      "\u001b[K     |████████████████████████████████| 117 kB 8.4 MB/s eta 0:00:01\n",
      "\u001b[?25hCollecting ipywidgets\n",
      "  Downloading ipywidgets-7.5.1-py2.py3-none-any.whl (121 kB)\n",
      "\u001b[K     |████████████████████████████████| 121 kB 8.6 MB/s eta 0:00:01\n",
      "\u001b[?25hRequirement already satisfied: nbconvert in ./scrapingVenv/lib/python3.7/site-packages (from jupyter) (5.6.1)\n",
      "Collecting pytz>=2017.2\n",
      "  Downloading pytz-2020.1-py2.py3-none-any.whl (510 kB)\n",
      "\u001b[K     |████████████████████████████████| 510 kB 4.7 MB/s eta 0:00:01\n",
      "\u001b[?25hCollecting mpmath>=0.19\n",
      "  Downloading mpmath-1.1.0.tar.gz (512 kB)\n",
      "\u001b[K     |████████████████████████████████| 512 kB 9.8 MB/s eta 0:00:01\n",
      "\u001b[?25hRequirement already satisfied: six>=1.5 in ./scrapingVenv/lib/python3.7/site-packages (from python-dateutil>=2.1->matplotlib) (1.14.0)\n",
      "Requirement already satisfied: ptyprocess>=0.5 in ./scrapingVenv/lib/python3.7/site-packages (from pexpect; sys_platform != \"win32\"->ipython) (0.6.0)\n",
      "Requirement already satisfied: parso>=0.7.0 in ./scrapingVenv/lib/python3.7/site-packages (from jedi>=0.10->ipython) (0.7.0)\n",
      "Requirement already satisfied: wcwidth in ./scrapingVenv/lib/python3.7/site-packages (from prompt-toolkit!=3.0.0,!=3.0.1,<3.1.0,>=2.0.0->ipython) (0.1.9)\n",
      "Requirement already satisfied: ipython-genutils in ./scrapingVenv/lib/python3.7/site-packages (from traitlets>=4.2->ipython) (0.2.0)\n",
      "Requirement already satisfied: jupyter-client in ./scrapingVenv/lib/python3.7/site-packages (from ipykernel->jupyter) (6.1.3)\n",
      "Requirement already satisfied: tornado>=4.2 in ./scrapingVenv/lib/python3.7/site-packages (from ipykernel->jupyter) (6.0.4)\n",
      "Requirement already satisfied: jinja2 in ./scrapingVenv/lib/python3.7/site-packages (from notebook->jupyter) (2.11.2)\n",
      "Requirement already satisfied: Send2Trash in ./scrapingVenv/lib/python3.7/site-packages (from notebook->jupyter) (1.5.0)\n",
      "Requirement already satisfied: nbformat in ./scrapingVenv/lib/python3.7/site-packages (from notebook->jupyter) (5.0.6)\n",
      "Requirement already satisfied: terminado>=0.8.1 in ./scrapingVenv/lib/python3.7/site-packages (from notebook->jupyter) (0.8.3)\n",
      "Requirement already satisfied: jupyter-core>=4.6.1 in ./scrapingVenv/lib/python3.7/site-packages (from notebook->jupyter) (4.6.3)\n",
      "Requirement already satisfied: pyzmq>=17 in ./scrapingVenv/lib/python3.7/site-packages (from notebook->jupyter) (19.0.0)\n",
      "Requirement already satisfied: prometheus-client in ./scrapingVenv/lib/python3.7/site-packages (from notebook->jupyter) (0.7.1)\n",
      "Collecting qtpy\n",
      "  Downloading QtPy-1.9.0-py2.py3-none-any.whl (54 kB)\n",
      "\u001b[K     |████████████████████████████████| 54 kB 3.0 MB/s  eta 0:00:01\n",
      "\u001b[?25hCollecting widgetsnbextension~=3.5.0\n",
      "  Downloading widgetsnbextension-3.5.1-py2.py3-none-any.whl (2.2 MB)\n",
      "\u001b[K     |████████████████████████████████| 2.2 MB 6.3 MB/s eta 0:00:01\n",
      "\u001b[?25hRequirement already satisfied: mistune<2,>=0.8.1 in ./scrapingVenv/lib/python3.7/site-packages (from nbconvert->jupyter) (0.8.4)\n",
      "Requirement already satisfied: entrypoints>=0.2.2 in ./scrapingVenv/lib/python3.7/site-packages (from nbconvert->jupyter) (0.3)\n",
      "Requirement already satisfied: bleach in ./scrapingVenv/lib/python3.7/site-packages (from nbconvert->jupyter) (3.1.5)\n",
      "Requirement already satisfied: pandocfilters>=1.4.1 in ./scrapingVenv/lib/python3.7/site-packages (from nbconvert->jupyter) (1.4.2)\n",
      "Requirement already satisfied: testpath in ./scrapingVenv/lib/python3.7/site-packages (from nbconvert->jupyter) (0.4.4)\n",
      "Requirement already satisfied: defusedxml in ./scrapingVenv/lib/python3.7/site-packages (from nbconvert->jupyter) (0.6.0)\n",
      "Requirement already satisfied: MarkupSafe>=0.23 in ./scrapingVenv/lib/python3.7/site-packages (from jinja2->notebook->jupyter) (1.1.1)\n",
      "Requirement already satisfied: jsonschema!=2.5.0,>=2.4 in ./scrapingVenv/lib/python3.7/site-packages (from nbformat->notebook->jupyter) (3.2.0)\n"
     ]
    },
    {
     "name": "stdout",
     "output_type": "stream",
     "text": [
      "Requirement already satisfied: webencodings in ./scrapingVenv/lib/python3.7/site-packages (from bleach->nbconvert->jupyter) (0.5.1)\n",
      "Requirement already satisfied: packaging in ./scrapingVenv/lib/python3.7/site-packages (from bleach->nbconvert->jupyter) (20.3)\n",
      "Requirement already satisfied: pyrsistent>=0.14.0 in ./scrapingVenv/lib/python3.7/site-packages (from jsonschema!=2.5.0,>=2.4->nbformat->notebook->jupyter) (0.16.0)\n",
      "Requirement already satisfied: attrs>=17.4.0 in ./scrapingVenv/lib/python3.7/site-packages (from jsonschema!=2.5.0,>=2.4->nbformat->notebook->jupyter) (19.3.0)\n",
      "Requirement already satisfied: importlib-metadata; python_version < \"3.8\" in ./scrapingVenv/lib/python3.7/site-packages (from jsonschema!=2.5.0,>=2.4->nbformat->notebook->jupyter) (1.6.0)\n",
      "Requirement already satisfied: zipp>=0.5 in ./scrapingVenv/lib/python3.7/site-packages (from importlib-metadata; python_version < \"3.8\"->jsonschema!=2.5.0,>=2.4->nbformat->notebook->jupyter) (3.1.0)\n",
      "Building wheels for collected packages: mpmath\n",
      "  Building wheel for mpmath (setup.py) ... \u001b[?25ldone\n",
      "\u001b[?25h  Created wheel for mpmath: filename=mpmath-1.1.0-py3-none-any.whl size=532239 sha256=9d485d231da73bfbaafa0f0283e30fb6e365b356b8f70b1c23c8b9c220bc4f95\n",
      "  Stored in directory: /Users/luis/Library/Caches/pip/wheels/e2/46/78/e78f76c356bca9277368f1f97a31b37a8cb937176d9511af31\n",
      "Successfully built mpmath\n",
      "Installing collected packages: scipy, jupyter-console, qtpy, qtconsole, widgetsnbextension, ipywidgets, jupyter, pytz, pandas, mpmath, sympy, nose\n",
      "Successfully installed ipywidgets-7.5.1 jupyter-1.0.0 jupyter-console-6.1.0 mpmath-1.1.0 nose-1.3.7 pandas-1.0.3 pytz-2020.1 qtconsole-4.7.3 qtpy-1.9.0 scipy-1.4.1 sympy-1.5.1 widgetsnbextension-3.5.1\n"
     ]
    }
   ],
   "source": [
    "!pip install requests\n",
    "!pip install -U matplotlib\n",
    "!pip install numpy scipy matplotlib ipython jupyter pandas sympy nose"
   ]
  },
  {
   "cell_type": "code",
   "execution_count": 135,
   "metadata": {},
   "outputs": [],
   "source": [
    "import requests\n",
    "import re\n",
    "import webbrowser\n",
    "from bs4 import BeautifulSoup\n",
    "\n",
    "import numpy as np\n",
    "import matplotlib.pyplot as plt\n",
    "%matplotlib inline"
   ]
  },
  {
   "cell_type": "code",
   "execution_count": 178,
   "metadata": {},
   "outputs": [],
   "source": [
    "url = 'https://lista.mercadolivre.com.br/veiculos/motos/naked/yamaha/mt-09/'"
   ]
  },
  {
   "cell_type": "code",
   "execution_count": 179,
   "metadata": {},
   "outputs": [],
   "source": [
    "resp = requests.get(url)"
   ]
  },
  {
   "cell_type": "code",
   "execution_count": 180,
   "metadata": {},
   "outputs": [],
   "source": [
    "soup = BeautifulSoup(resp.text, 'lxml')"
   ]
  },
  {
   "cell_type": "code",
   "execution_count": 194,
   "metadata": {},
   "outputs": [],
   "source": [
    "bike_dict = {}\n",
    "find_price = soup.find_all('span', {'class': 'price__fraction'})\n",
    "find_year_and_km = soup.find_all('div', {'class': 'item__attrs'})"
   ]
  },
  {
   "cell_type": "code",
   "execution_count": 200,
   "metadata": {},
   "outputs": [],
   "source": [
    "for price, year in zip(find_price, find_year_and_km):\n",
    "    year_formated = year.text.replace(' ', '')[:4]\n",
    "    price_formated = price.text.replace('.', '')\n",
    "    bike_dict[year_formated] = int(price_formated)"
   ]
  },
  {
   "cell_type": "code",
   "execution_count": 201,
   "metadata": {},
   "outputs": [],
   "source": [
    "bike_dict = {key: value for key, value in \n",
    "                 sorted(bike_dict.items(), key= lambda item: item[1])\n",
    "            }"
   ]
  },
  {
   "cell_type": "code",
   "execution_count": 213,
   "metadata": {},
   "outputs": [
    {
     "data": {
      "image/png": "[encoded data removed]",
      "text/plain": [
       "<Figure size 432x288 with 1 Axes>"
      ]
     },
     "metadata": {
      "needs_background": "light"
     },
     "output_type": "display_data"
    }
   ],
   "source": [
    "plt.bar(range(len(bike_dict)), list(bike_dict.values()), align='center')\n",
    "plt.xticks(range(len(bike_dict)), list(bike_dict.keys()))\n",
    "\n",
    "plt.title('Mercado Livre YAMAHA MT-09 Prices', fontdict={\n",
    "    'size': 'x-large',\n",
    "    'weight': 'bold',\n",
    "});\n",
    "plt.ylabel('Reals($)');\n",
    "plt.xlabel('Years');\n",
    "plt.text(-0.3, 29000, 'Low\\nPrice');\n",
    "\n",
    "plt.show()"
   ]
  },
  {
   "cell_type": "code",
   "execution_count": null,
   "metadata": {},
   "outputs": [],
   "source": []
  }
 ],
 "metadata": {
  "kernelspec": {
   "display_name": "Python 3",
   "language": "python",
   "name": "python3"
  },
  "language_info": {
   "codemirror_mode": {
    "name": "ipython",
    "version": 3
   },
   "file_extension": ".py",
   "mimetype": "text/x-python",
   "name": "python",
   "nbconvert_exporter": "python",
   "pygments_lexer": "ipython3",
   "version": "3.7.7"
  }
 },
 "nbformat": 4,
 "nbformat_minor": 4
}
