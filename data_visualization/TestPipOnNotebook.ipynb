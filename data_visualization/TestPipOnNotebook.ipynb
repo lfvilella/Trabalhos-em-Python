{
 "cells": [
  {
   "cell_type": "code",
   "execution_count": 1,
   "metadata": {},
   "outputs": [
    {
     "name": "stdout",
     "output_type": "stream",
     "text": [
      "Collecting matplotlib\n",
      "  Downloading matplotlib-3.2.1-cp37-cp37m-macosx_10_9_x86_64.whl (12.4 MB)\n",
      "\u001b[K     |████████████████████████████████| 12.4 MB 8.0 MB/s eta 0:00:01\n",
      "\u001b[?25hCollecting numpy>=1.11\n",
      "  Using cached numpy-1.18.3-cp37-cp37m-macosx_10_9_x86_64.whl (15.1 MB)\n",
      "Collecting kiwisolver>=1.0.1\n",
      "  Downloading kiwisolver-1.2.0-cp37-cp37m-macosx_10_9_x86_64.whl (60 kB)\n",
      "\u001b[K     |████████████████████████████████| 60 kB 5.3 MB/s eta 0:00:011\n",
      "\u001b[?25hCollecting pyparsing!=2.0.4,!=2.1.2,!=2.1.6,>=2.0.1\n",
      "  Using cached pyparsing-2.4.7-py2.py3-none-any.whl (67 kB)\n",
      "Collecting cycler>=0.10\n",
      "  Using cached cycler-0.10.0-py2.py3-none-any.whl (6.5 kB)\n",
      "Requirement already satisfied, skipping upgrade: python-dateutil>=2.1 in ./matplotVenv/lib/python3.7/site-packages (from matplotlib) (2.8.1)\n",
      "Requirement already satisfied, skipping upgrade: six in ./matplotVenv/lib/python3.7/site-packages (from cycler>=0.10->matplotlib) (1.14.0)\n",
      "Could not build wheels for python-dateutil, since package 'wheel' is not installed.\n",
      "Could not build wheels for six, since package 'wheel' is not installed.\n",
      "Installing collected packages: numpy, kiwisolver, pyparsing, cycler, matplotlib\n",
      "Successfully installed cycler-0.10.0 kiwisolver-1.2.0 matplotlib-3.2.1 numpy-1.18.3 pyparsing-2.4.7\n"
     ]
    }
   ],
   "source": [
    "!pip install -U matplotlib"
   ]
  },
  {
   "cell_type": "code",
   "execution_count": 13,
   "metadata": {},
   "outputs": [
    {
     "name": "stdout",
     "output_type": "stream",
     "text": [
      "Requirement already satisfied: numpy in ./matplotVenv/lib/python3.7/site-packages (1.18.3)\n",
      "Requirement already satisfied: scipy in ./matplotVenv/lib/python3.7/site-packages (1.4.1)\n",
      "Requirement already satisfied: matplotlib in ./matplotVenv/lib/python3.7/site-packages (3.2.1)\n",
      "Requirement already satisfied: ipython in ./matplotVenv/lib/python3.7/site-packages (7.13.0)\n",
      "Requirement already satisfied: jupyter in ./matplotVenv/lib/python3.7/site-packages (1.0.0)\n",
      "Requirement already satisfied: pandas in ./matplotVenv/lib/python3.7/site-packages (1.0.3)\n",
      "Requirement already satisfied: sympy in ./matplotVenv/lib/python3.7/site-packages (1.5.1)\n",
      "Requirement already satisfied: nose in ./matplotVenv/lib/python3.7/site-packages (1.3.7)\n",
      "Requirement already satisfied: python-dateutil>=2.1 in ./matplotVenv/lib/python3.7/site-packages (from matplotlib) (2.8.1)\n",
      "Requirement already satisfied: kiwisolver>=1.0.1 in ./matplotVenv/lib/python3.7/site-packages (from matplotlib) (1.2.0)\n",
      "Requirement already satisfied: pyparsing!=2.0.4,!=2.1.2,!=2.1.6,>=2.0.1 in ./matplotVenv/lib/python3.7/site-packages (from matplotlib) (2.4.7)\n",
      "Requirement already satisfied: cycler>=0.10 in ./matplotVenv/lib/python3.7/site-packages (from matplotlib) (0.10.0)\n",
      "Requirement already satisfied: pexpect; sys_platform != \"win32\" in ./matplotVenv/lib/python3.7/site-packages (from ipython) (4.8.0)\n",
      "Requirement already satisfied: pickleshare in ./matplotVenv/lib/python3.7/site-packages (from ipython) (0.7.5)\n",
      "Requirement already satisfied: jedi>=0.10 in ./matplotVenv/lib/python3.7/site-packages (from ipython) (0.17.0)\n",
      "Requirement already satisfied: traitlets>=4.2 in ./matplotVenv/lib/python3.7/site-packages (from ipython) (4.3.3)\n",
      "Requirement already satisfied: prompt-toolkit!=3.0.0,!=3.0.1,<3.1.0,>=2.0.0 in ./matplotVenv/lib/python3.7/site-packages (from ipython) (3.0.5)\n",
      "Requirement already satisfied: backcall in ./matplotVenv/lib/python3.7/site-packages (from ipython) (0.1.0)\n",
      "Requirement already satisfied: setuptools>=18.5 in ./matplotVenv/lib/python3.7/site-packages (from ipython) (40.6.2)\n",
      "Requirement already satisfied: appnope; sys_platform == \"darwin\" in ./matplotVenv/lib/python3.7/site-packages (from ipython) (0.1.0)\n",
      "Requirement already satisfied: pygments in ./matplotVenv/lib/python3.7/site-packages (from ipython) (2.6.1)\n",
      "Requirement already satisfied: decorator in ./matplotVenv/lib/python3.7/site-packages (from ipython) (4.4.2)\n",
      "Requirement already satisfied: ipywidgets in ./matplotVenv/lib/python3.7/site-packages (from jupyter) (7.5.1)\n",
      "Requirement already satisfied: qtconsole in ./matplotVenv/lib/python3.7/site-packages (from jupyter) (4.7.3)\n",
      "Requirement already satisfied: nbconvert in ./matplotVenv/lib/python3.7/site-packages (from jupyter) (5.6.1)\n",
      "Requirement already satisfied: ipykernel in ./matplotVenv/lib/python3.7/site-packages (from jupyter) (5.2.1)\n",
      "Requirement already satisfied: jupyter-console in ./matplotVenv/lib/python3.7/site-packages (from jupyter) (6.1.0)\n",
      "Requirement already satisfied: notebook in ./matplotVenv/lib/python3.7/site-packages (from jupyter) (6.0.3)\n",
      "Requirement already satisfied: pytz>=2017.2 in ./matplotVenv/lib/python3.7/site-packages (from pandas) (2020.1)\n",
      "Requirement already satisfied: mpmath>=0.19 in ./matplotVenv/lib/python3.7/site-packages (from sympy) (1.1.0)\n",
      "Requirement already satisfied: six>=1.5 in ./matplotVenv/lib/python3.7/site-packages (from python-dateutil>=2.1->matplotlib) (1.14.0)\n",
      "Requirement already satisfied: ptyprocess>=0.5 in ./matplotVenv/lib/python3.7/site-packages (from pexpect; sys_platform != \"win32\"->ipython) (0.6.0)\n",
      "Requirement already satisfied: parso>=0.7.0 in ./matplotVenv/lib/python3.7/site-packages (from jedi>=0.10->ipython) (0.7.0)\n",
      "Requirement already satisfied: ipython-genutils in ./matplotVenv/lib/python3.7/site-packages (from traitlets>=4.2->ipython) (0.2.0)\n",
      "Requirement already satisfied: wcwidth in ./matplotVenv/lib/python3.7/site-packages (from prompt-toolkit!=3.0.0,!=3.0.1,<3.1.0,>=2.0.0->ipython) (0.1.9)\n",
      "Requirement already satisfied: nbformat>=4.2.0 in ./matplotVenv/lib/python3.7/site-packages (from ipywidgets->jupyter) (5.0.6)\n",
      "Requirement already satisfied: widgetsnbextension~=3.5.0 in ./matplotVenv/lib/python3.7/site-packages (from ipywidgets->jupyter) (3.5.1)\n",
      "Requirement already satisfied: jupyter-client>=4.1 in ./matplotVenv/lib/python3.7/site-packages (from qtconsole->jupyter) (6.1.3)\n",
      "Requirement already satisfied: pyzmq>=17.1 in ./matplotVenv/lib/python3.7/site-packages (from qtconsole->jupyter) (19.0.0)\n",
      "Requirement already satisfied: jupyter-core in ./matplotVenv/lib/python3.7/site-packages (from qtconsole->jupyter) (4.6.3)\n",
      "Requirement already satisfied: qtpy in ./matplotVenv/lib/python3.7/site-packages (from qtconsole->jupyter) (1.9.0)\n",
      "Requirement already satisfied: defusedxml in ./matplotVenv/lib/python3.7/site-packages (from nbconvert->jupyter) (0.6.0)\n",
      "Requirement already satisfied: entrypoints>=0.2.2 in ./matplotVenv/lib/python3.7/site-packages (from nbconvert->jupyter) (0.3)\n",
      "Requirement already satisfied: jinja2>=2.4 in ./matplotVenv/lib/python3.7/site-packages (from nbconvert->jupyter) (2.11.2)\n",
      "Requirement already satisfied: bleach in ./matplotVenv/lib/python3.7/site-packages (from nbconvert->jupyter) (3.1.4)\n",
      "Requirement already satisfied: mistune<2,>=0.8.1 in ./matplotVenv/lib/python3.7/site-packages (from nbconvert->jupyter) (0.8.4)\n",
      "Requirement already satisfied: pandocfilters>=1.4.1 in ./matplotVenv/lib/python3.7/site-packages (from nbconvert->jupyter) (1.4.2)\n",
      "Requirement already satisfied: testpath in ./matplotVenv/lib/python3.7/site-packages (from nbconvert->jupyter) (0.4.4)\n",
      "Requirement already satisfied: tornado>=4.2 in ./matplotVenv/lib/python3.7/site-packages (from ipykernel->jupyter) (6.0.4)\n",
      "Requirement already satisfied: Send2Trash in ./matplotVenv/lib/python3.7/site-packages (from notebook->jupyter) (1.5.0)\n",
      "Requirement already satisfied: terminado>=0.8.1 in ./matplotVenv/lib/python3.7/site-packages (from notebook->jupyter) (0.8.3)\n",
      "Requirement already satisfied: prometheus-client in ./matplotVenv/lib/python3.7/site-packages (from notebook->jupyter) (0.7.1)\n",
      "Requirement already satisfied: jsonschema!=2.5.0,>=2.4 in ./matplotVenv/lib/python3.7/site-packages (from nbformat>=4.2.0->ipywidgets->jupyter) (3.2.0)\n",
      "Requirement already satisfied: MarkupSafe>=0.23 in ./matplotVenv/lib/python3.7/site-packages (from jinja2>=2.4->nbconvert->jupyter) (1.1.1)\n",
      "Requirement already satisfied: webencodings in ./matplotVenv/lib/python3.7/site-packages (from bleach->nbconvert->jupyter) (0.5.1)\n",
      "Requirement already satisfied: importlib-metadata; python_version < \"3.8\" in ./matplotVenv/lib/python3.7/site-packages (from jsonschema!=2.5.0,>=2.4->nbformat>=4.2.0->ipywidgets->jupyter) (1.6.0)\n",
      "Requirement already satisfied: pyrsistent>=0.14.0 in ./matplotVenv/lib/python3.7/site-packages (from jsonschema!=2.5.0,>=2.4->nbformat>=4.2.0->ipywidgets->jupyter) (0.16.0)\n",
      "Requirement already satisfied: attrs>=17.4.0 in ./matplotVenv/lib/python3.7/site-packages (from jsonschema!=2.5.0,>=2.4->nbformat>=4.2.0->ipywidgets->jupyter) (19.3.0)\n",
      "Requirement already satisfied: zipp>=0.5 in ./matplotVenv/lib/python3.7/site-packages (from importlib-metadata; python_version < \"3.8\"->jsonschema!=2.5.0,>=2.4->nbformat>=4.2.0->ipywidgets->jupyter) (3.1.0)\n"
     ]
    }
   ],
   "source": [
    "!pip install numpy scipy matplotlib ipython jupyter pandas sympy nose"
   ]
  },
  {
   "cell_type": "code",
   "execution_count": 14,
   "metadata": {},
   "outputs": [
    {
     "name": "stdout",
     "output_type": "stream",
     "text": [
      "appnope==0.1.0\r\n",
      "attrs==19.3.0\r\n",
      "backcall==0.1.0\r\n",
      "bleach==3.1.4\r\n",
      "certifi==2020.4.5.1\r\n",
      "chardet==3.0.4\r\n",
      "cycler==0.10.0\r\n",
      "decorator==4.4.2\r\n",
      "defusedxml==0.6.0\r\n",
      "entrypoints==0.3\r\n",
      "idna==2.9\r\n",
      "importlib-metadata==1.6.0\r\n",
      "ipykernel==5.2.1\r\n",
      "ipython==7.13.0\r\n",
      "ipython-genutils==0.2.0\r\n",
      "ipywidgets==7.5.1\r\n",
      "jedi==0.17.0\r\n",
      "Jinja2==2.11.2\r\n",
      "json5==0.9.4\r\n",
      "jsonschema==3.2.0\r\n",
      "jupyter==1.0.0\r\n",
      "jupyter-client==6.1.3\r\n",
      "jupyter-console==6.1.0\r\n",
      "jupyter-core==4.6.3\r\n",
      "jupyterlab==2.1.1\r\n",
      "jupyterlab-server==1.1.1\r\n",
      "kiwisolver==1.2.0\r\n",
      "MarkupSafe==1.1.1\r\n",
      "matplotlib==3.2.1\r\n",
      "mistune==0.8.4\r\n",
      "mpmath==1.1.0\r\n",
      "nbconvert==5.6.1\r\n",
      "nbformat==5.0.6\r\n",
      "nose==1.3.7\r\n",
      "notebook==6.0.3\r\n",
      "numpy==1.18.3\r\n",
      "pandas==1.0.3\r\n",
      "pandocfilters==1.4.2\r\n",
      "parso==0.7.0\r\n",
      "pexpect==4.8.0\r\n",
      "pickleshare==0.7.5\r\n",
      "prometheus-client==0.7.1\r\n",
      "prompt-toolkit==3.0.5\r\n",
      "ptyprocess==0.6.0\r\n",
      "Pygments==2.6.1\r\n",
      "pyparsing==2.4.7\r\n",
      "pyrsistent==0.16.0\r\n",
      "python-dateutil==2.8.1\r\n",
      "pytz==2020.1\r\n",
      "pyzmq==19.0.0\r\n",
      "qtconsole==4.7.3\r\n",
      "QtPy==1.9.0\r\n",
      "requests==2.23.0\r\n",
      "scipy==1.4.1\r\n",
      "Send2Trash==1.5.0\r\n",
      "six==1.14.0\r\n",
      "sympy==1.5.1\r\n",
      "terminado==0.8.3\r\n",
      "testpath==0.4.4\r\n",
      "tornado==6.0.4\r\n",
      "traitlets==4.3.3\r\n",
      "urllib3==1.25.9\r\n",
      "wcwidth==0.1.9\r\n",
      "webencodings==0.5.1\r\n",
      "widgetsnbextension==3.5.1\r\n",
      "zipp==3.1.0\r\n"
     ]
    }
   ],
   "source": [
    "!pip freeze"
   ]
  },
  {
   "cell_type": "code",
   "execution_count": 12,
   "metadata": {},
   "outputs": [
    {
     "name": "stdout",
     "output_type": "stream",
     "text": [
      "Requirement already satisfied: pandas in ./matplotVenv/lib/python3.7/site-packages (1.0.3)\r\n",
      "Requirement already satisfied: numpy>=1.13.3 in ./matplotVenv/lib/python3.7/site-packages (from pandas) (1.18.3)\r\n",
      "Requirement already satisfied: pytz>=2017.2 in ./matplotVenv/lib/python3.7/site-packages (from pandas) (2020.1)\r\n",
      "Requirement already satisfied: python-dateutil>=2.6.1 in ./matplotVenv/lib/python3.7/site-packages (from pandas) (2.8.1)\r\n",
      "Requirement already satisfied: six>=1.5 in ./matplotVenv/lib/python3.7/site-packages (from python-dateutil>=2.6.1->pandas) (1.14.0)\r\n"
     ]
    }
   ],
   "source": [
    "!pip install pandas"
   ]
  },
  {
   "cell_type": "code",
   "execution_count": 11,
   "metadata": {},
   "outputs": [
    {
     "name": "stdout",
     "output_type": "stream",
     "text": [
      "Collecting wheel\n",
      "  Downloading wheel-0.34.2-py2.py3-none-any.whl (26 kB)\n",
      "Installing collected packages: wheel\n",
      "Successfully installed wheel-0.34.2\n"
     ]
    }
   ],
   "source": [
    "!pip install wheel"
   ]
  },
  {
   "cell_type": "code",
   "execution_count": 19,
   "metadata": {},
   "outputs": [],
   "source": [
    "import matplotlib.pyplot as plt\n",
    "%matplotlib inline"
   ]
  },
  {
   "cell_type": "code",
   "execution_count": 21,
   "metadata": {},
   "outputs": [
    {
     "data": {
      "text/plain": [
       "array([45,  0, 67, 10, 51, 70, 80,  8, 58, 34,  9,  0])"
      ]
     },
     "execution_count": 21,
     "metadata": {},
     "output_type": "execute_result"
    }
   ],
   "source": [
    "import numpy as np\n",
    "data = np.random.randint(0,100,12)\n",
    "data"
   ]
  },
  {
   "cell_type": "code",
   "execution_count": 22,
   "metadata": {},
   "outputs": [
    {
     "data": {
      "text/plain": [
       "<BarContainer object of 12 artists>"
      ]
     },
     "execution_count": 22,
     "metadata": {},
     "output_type": "execute_result"
    },
    {
     "data": {
      "image/png": "[encoded data removed]",
      "text/plain": [
       "<Figure size 432x288 with 1 Axes>"
      ]
     },
     "metadata": {
      "needs_background": "light"
     },
     "output_type": "display_data"
    }
   ],
   "source": [
    "plt.bar(np.arange(len(data)), data)"
   ]
  },
  {
   "cell_type": "code",
   "execution_count": null,
   "metadata": {},
   "outputs": [],
   "source": []
  }
 ],
 "metadata": {
  "kernelspec": {
   "display_name": "Python 3",
   "language": "python",
   "name": "python3"
  },
  "language_info": {
   "codemirror_mode": {
    "name": "ipython",
    "version": 3
   },
   "file_extension": ".py",
   "mimetype": "text/x-python",
   "name": "python",
   "nbconvert_exporter": "python",
   "pygments_lexer": "ipython3",
   "version": "3.7.2"
  }
 },
 "nbformat": 4,
 "nbformat_minor": 4
}
