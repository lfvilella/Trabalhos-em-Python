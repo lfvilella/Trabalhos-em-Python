{
 "cells": [
  {
   "cell_type": "code",
   "execution_count": 8,
   "metadata": {},
   "outputs": [
    {
     "name": "stdout",
     "output_type": "stream",
     "text": [
      "Requirement already up-to-date: matplotlib in ./matplotVenv/lib/python3.7/site-packages (3.2.1)\n",
      "Requirement already satisfied, skipping upgrade: pyparsing!=2.0.4,!=2.1.2,!=2.1.6,>=2.0.1 in ./matplotVenv/lib/python3.7/site-packages (from matplotlib) (2.4.7)\n",
      "Requirement already satisfied, skipping upgrade: numpy>=1.11 in ./matplotVenv/lib/python3.7/site-packages (from matplotlib) (1.18.3)\n",
      "Requirement already satisfied, skipping upgrade: cycler>=0.10 in ./matplotVenv/lib/python3.7/site-packages (from matplotlib) (0.10.0)\n",
      "Requirement already satisfied, skipping upgrade: python-dateutil>=2.1 in ./matplotVenv/lib/python3.7/site-packages (from matplotlib) (2.8.1)\n",
      "Requirement already satisfied, skipping upgrade: kiwisolver>=1.0.1 in ./matplotVenv/lib/python3.7/site-packages (from matplotlib) (1.2.0)\n",
      "Requirement already satisfied, skipping upgrade: six in ./matplotVenv/lib/python3.7/site-packages (from cycler>=0.10->matplotlib) (1.14.0)\n"
     ]
    }
   ],
   "source": [
    "!pip install -U matplotlib"
   ]
  },
  {
   "cell_type": "code",
   "execution_count": 6,
   "metadata": {},
   "outputs": [
    {
     "name": "stdout",
     "output_type": "stream",
     "text": [
      "Requirement already satisfied: numpy in ./matplotVenv/lib/python3.7/site-packages (1.18.3)\n",
      "Collecting scipy\n",
      "  Using cached scipy-1.4.1-cp37-cp37m-macosx_10_6_intel.whl (28.4 MB)\n",
      "Requirement already satisfied: matplotlib in ./matplotVenv/lib/python3.7/site-packages (3.2.1)\n",
      "Requirement already satisfied: ipython in ./matplotVenv/lib/python3.7/site-packages (7.13.0)\n",
      "Collecting jupyter\n",
      "  Using cached jupyter-1.0.0-py2.py3-none-any.whl (2.7 kB)\n",
      "Requirement already satisfied: pandas in ./matplotVenv/lib/python3.7/site-packages (1.0.3)\n",
      "Collecting sympy\n",
      "  Using cached sympy-1.5.1-py2.py3-none-any.whl (5.6 MB)\n",
      "Collecting nose\n",
      "  Using cached nose-1.3.7-py3-none-any.whl (154 kB)\n",
      "Requirement already satisfied: kiwisolver>=1.0.1 in ./matplotVenv/lib/python3.7/site-packages (from matplotlib) (1.2.0)\n",
      "Requirement already satisfied: cycler>=0.10 in ./matplotVenv/lib/python3.7/site-packages (from matplotlib) (0.10.0)\n",
      "Requirement already satisfied: pyparsing!=2.0.4,!=2.1.2,!=2.1.6,>=2.0.1 in ./matplotVenv/lib/python3.7/site-packages (from matplotlib) (2.4.7)\n",
      "Requirement already satisfied: python-dateutil>=2.1 in ./matplotVenv/lib/python3.7/site-packages (from matplotlib) (2.8.1)\n",
      "Requirement already satisfied: pexpect; sys_platform != \"win32\" in ./matplotVenv/lib/python3.7/site-packages (from ipython) (4.8.0)\n",
      "Requirement already satisfied: appnope; sys_platform == \"darwin\" in ./matplotVenv/lib/python3.7/site-packages (from ipython) (0.1.0)\n",
      "Requirement already satisfied: prompt-toolkit!=3.0.0,!=3.0.1,<3.1.0,>=2.0.0 in ./matplotVenv/lib/python3.7/site-packages (from ipython) (3.0.5)\n",
      "Requirement already satisfied: setuptools>=18.5 in ./matplotVenv/lib/python3.7/site-packages (from ipython) (40.6.2)\n",
      "Requirement already satisfied: pygments in ./matplotVenv/lib/python3.7/site-packages (from ipython) (2.6.1)\n",
      "Requirement already satisfied: jedi>=0.10 in ./matplotVenv/lib/python3.7/site-packages (from ipython) (0.17.0)\n",
      "Requirement already satisfied: pickleshare in ./matplotVenv/lib/python3.7/site-packages (from ipython) (0.7.5)\n",
      "Requirement already satisfied: traitlets>=4.2 in ./matplotVenv/lib/python3.7/site-packages (from ipython) (4.3.3)\n",
      "Requirement already satisfied: decorator in ./matplotVenv/lib/python3.7/site-packages (from ipython) (4.4.2)\n",
      "Requirement already satisfied: backcall in ./matplotVenv/lib/python3.7/site-packages (from ipython) (0.1.0)\n",
      "Collecting ipywidgets\n",
      "  Using cached ipywidgets-7.5.1-py2.py3-none-any.whl (121 kB)\n",
      "Requirement already satisfied: ipykernel in ./matplotVenv/lib/python3.7/site-packages (from jupyter) (5.2.1)\n",
      "Collecting jupyter-console\n",
      "  Using cached jupyter_console-6.1.0-py2.py3-none-any.whl (21 kB)\n",
      "Requirement already satisfied: nbconvert in ./matplotVenv/lib/python3.7/site-packages (from jupyter) (5.6.1)\n",
      "Requirement already satisfied: notebook in ./matplotVenv/lib/python3.7/site-packages (from jupyter) (6.0.3)\n",
      "Collecting qtconsole\n",
      "  Using cached qtconsole-4.7.3-py2.py3-none-any.whl (117 kB)\n",
      "Requirement already satisfied: pytz>=2017.2 in ./matplotVenv/lib/python3.7/site-packages (from pandas) (2020.1)\n",
      "Collecting mpmath>=0.19\n",
      "  Using cached mpmath-1.1.0.tar.gz (512 kB)\n",
      "Requirement already satisfied: six in ./matplotVenv/lib/python3.7/site-packages (from cycler>=0.10->matplotlib) (1.14.0)\n",
      "Requirement already satisfied: ptyprocess>=0.5 in ./matplotVenv/lib/python3.7/site-packages (from pexpect; sys_platform != \"win32\"->ipython) (0.6.0)\n",
      "Requirement already satisfied: wcwidth in ./matplotVenv/lib/python3.7/site-packages (from prompt-toolkit!=3.0.0,!=3.0.1,<3.1.0,>=2.0.0->ipython) (0.1.9)\n",
      "Requirement already satisfied: parso>=0.7.0 in ./matplotVenv/lib/python3.7/site-packages (from jedi>=0.10->ipython) (0.7.0)\n",
      "Requirement already satisfied: ipython-genutils in ./matplotVenv/lib/python3.7/site-packages (from traitlets>=4.2->ipython) (0.2.0)\n",
      "Requirement already satisfied: nbformat>=4.2.0 in ./matplotVenv/lib/python3.7/site-packages (from ipywidgets->jupyter) (5.0.6)\n",
      "Collecting widgetsnbextension~=3.5.0\n",
      "  Using cached widgetsnbextension-3.5.1-py2.py3-none-any.whl (2.2 MB)\n",
      "Requirement already satisfied: tornado>=4.2 in ./matplotVenv/lib/python3.7/site-packages (from ipykernel->jupyter) (6.0.4)\n",
      "Requirement already satisfied: jupyter-client in ./matplotVenv/lib/python3.7/site-packages (from ipykernel->jupyter) (6.1.3)\n",
      "Requirement already satisfied: pandocfilters>=1.4.1 in ./matplotVenv/lib/python3.7/site-packages (from nbconvert->jupyter) (1.4.2)\n",
      "Requirement already satisfied: bleach in ./matplotVenv/lib/python3.7/site-packages (from nbconvert->jupyter) (3.1.4)\n",
      "Requirement already satisfied: jupyter-core in ./matplotVenv/lib/python3.7/site-packages (from nbconvert->jupyter) (4.6.3)\n",
      "Requirement already satisfied: jinja2>=2.4 in ./matplotVenv/lib/python3.7/site-packages (from nbconvert->jupyter) (2.11.2)\n",
      "Requirement already satisfied: entrypoints>=0.2.2 in ./matplotVenv/lib/python3.7/site-packages (from nbconvert->jupyter) (0.3)\n",
      "Requirement already satisfied: defusedxml in ./matplotVenv/lib/python3.7/site-packages (from nbconvert->jupyter) (0.6.0)\n",
      "Requirement already satisfied: testpath in ./matplotVenv/lib/python3.7/site-packages (from nbconvert->jupyter) (0.4.4)\n",
      "Requirement already satisfied: mistune<2,>=0.8.1 in ./matplotVenv/lib/python3.7/site-packages (from nbconvert->jupyter) (0.8.4)\n",
      "Requirement already satisfied: prometheus-client in ./matplotVenv/lib/python3.7/site-packages (from notebook->jupyter) (0.7.1)\n",
      "Requirement already satisfied: Send2Trash in ./matplotVenv/lib/python3.7/site-packages (from notebook->jupyter) (1.5.0)\n",
      "Requirement already satisfied: terminado>=0.8.1 in ./matplotVenv/lib/python3.7/site-packages (from notebook->jupyter) (0.8.3)\n",
      "Requirement already satisfied: pyzmq>=17 in ./matplotVenv/lib/python3.7/site-packages (from notebook->jupyter) (19.0.0)\n",
      "Collecting qtpy\n",
      "  Using cached QtPy-1.9.0-py2.py3-none-any.whl (54 kB)\n",
      "Requirement already satisfied: jsonschema!=2.5.0,>=2.4 in ./matplotVenv/lib/python3.7/site-packages (from nbformat>=4.2.0->ipywidgets->jupyter) (3.2.0)\n",
      "Requirement already satisfied: webencodings in ./matplotVenv/lib/python3.7/site-packages (from bleach->nbconvert->jupyter) (0.5.1)\n",
      "Requirement already satisfied: MarkupSafe>=0.23 in ./matplotVenv/lib/python3.7/site-packages (from jinja2>=2.4->nbconvert->jupyter) (1.1.1)\n",
      "Requirement already satisfied: attrs>=17.4.0 in ./matplotVenv/lib/python3.7/site-packages (from jsonschema!=2.5.0,>=2.4->nbformat>=4.2.0->ipywidgets->jupyter) (19.3.0)\n",
      "Requirement already satisfied: importlib-metadata; python_version < \"3.8\" in ./matplotVenv/lib/python3.7/site-packages (from jsonschema!=2.5.0,>=2.4->nbformat>=4.2.0->ipywidgets->jupyter) (1.6.0)\n",
      "Requirement already satisfied: pyrsistent>=0.14.0 in ./matplotVenv/lib/python3.7/site-packages (from jsonschema!=2.5.0,>=2.4->nbformat>=4.2.0->ipywidgets->jupyter) (0.16.0)\n",
      "Requirement already satisfied: zipp>=0.5 in ./matplotVenv/lib/python3.7/site-packages (from importlib-metadata; python_version < \"3.8\"->jsonschema!=2.5.0,>=2.4->nbformat>=4.2.0->ipywidgets->jupyter) (3.1.0)\n",
      "Building wheels for collected packages: mpmath\n",
      "  Building wheel for mpmath (setup.py) ... \u001b[?25ldone\n",
      "\u001b[?25h  Created wheel for mpmath: filename=mpmath-1.1.0-py3-none-any.whl size=532239 sha256=9944335f21a8b2ce410848017ee6699ade2701d965810d154f8a583c8f569e22\n",
      "  Stored in directory: /Users/felipe/Library/Caches/pip/wheels/e2/46/78/e78f76c356bca9277368f1f97a31b37a8cb937176d9511af31\n",
      "Successfully built mpmath\n",
      "Installing collected packages: scipy, widgetsnbextension, ipywidgets, jupyter-console, qtpy, qtconsole, jupyter, mpmath, sympy, nose\n",
      "Successfully installed ipywidgets-7.5.1 jupyter-1.0.0 jupyter-console-6.1.0 mpmath-1.1.0 nose-1.3.7 qtconsole-4.7.3 qtpy-1.9.0 scipy-1.4.1 sympy-1.5.1 widgetsnbextension-3.5.1\n"
     ]
    }
   ],
   "source": [
    "!pip install numpy scipy matplotlib ipython jupyter pandas sympy nose"
   ]
  },
  {
   "cell_type": "code",
   "execution_count": 14,
   "metadata": {},
   "outputs": [
    {
     "name": "stdout",
     "output_type": "stream",
     "text": [
      "appnope==0.1.0\r\n",
      "attrs==19.3.0\r\n",
      "backcall==0.1.0\r\n",
      "bleach==3.1.4\r\n",
      "certifi==2020.4.5.1\r\n",
      "chardet==3.0.4\r\n",
      "cycler==0.10.0\r\n",
      "decorator==4.4.2\r\n",
      "defusedxml==0.6.0\r\n",
      "entrypoints==0.3\r\n",
      "idna==2.9\r\n",
      "importlib-metadata==1.6.0\r\n",
      "ipykernel==5.2.1\r\n",
      "ipython==7.13.0\r\n",
      "ipython-genutils==0.2.0\r\n",
      "ipywidgets==7.5.1\r\n",
      "jedi==0.17.0\r\n",
      "Jinja2==2.11.2\r\n",
      "json5==0.9.4\r\n",
      "jsonschema==3.2.0\r\n",
      "jupyter==1.0.0\r\n",
      "jupyter-client==6.1.3\r\n",
      "jupyter-console==6.1.0\r\n",
      "jupyter-core==4.6.3\r\n",
      "jupyterlab==2.1.1\r\n",
      "jupyterlab-server==1.1.1\r\n",
      "kiwisolver==1.2.0\r\n",
      "MarkupSafe==1.1.1\r\n",
      "matplotlib==3.2.1\r\n",
      "mistune==0.8.4\r\n",
      "mpmath==1.1.0\r\n",
      "nbconvert==5.6.1\r\n",
      "nbformat==5.0.6\r\n",
      "nose==1.3.7\r\n",
      "notebook==6.0.3\r\n",
      "numpy==1.18.3\r\n",
      "pandas==1.0.3\r\n",
      "pandocfilters==1.4.2\r\n",
      "parso==0.7.0\r\n",
      "pexpect==4.8.0\r\n",
      "pickleshare==0.7.5\r\n",
      "prometheus-client==0.7.1\r\n",
      "prompt-toolkit==3.0.5\r\n",
      "ptyprocess==0.6.0\r\n",
      "Pygments==2.6.1\r\n",
      "pyparsing==2.4.7\r\n",
      "pyrsistent==0.16.0\r\n",
      "python-dateutil==2.8.1\r\n",
      "pytz==2020.1\r\n",
      "pyzmq==19.0.0\r\n",
      "qtconsole==4.7.3\r\n",
      "QtPy==1.9.0\r\n",
      "requests==2.23.0\r\n",
      "scipy==1.4.1\r\n",
      "Send2Trash==1.5.0\r\n",
      "six==1.14.0\r\n",
      "sympy==1.5.1\r\n",
      "terminado==0.8.3\r\n",
      "testpath==0.4.4\r\n",
      "tornado==6.0.4\r\n",
      "traitlets==4.3.3\r\n",
      "urllib3==1.25.9\r\n",
      "wcwidth==0.1.9\r\n",
      "webencodings==0.5.1\r\n",
      "widgetsnbextension==3.5.1\r\n",
      "zipp==3.1.0\r\n"
     ]
    }
   ],
   "source": [
    "!pip freeze"
   ]
  },
  {
   "cell_type": "code",
   "execution_count": 5,
   "metadata": {},
   "outputs": [
    {
     "name": "stdout",
     "output_type": "stream",
     "text": [
      "Collecting pandas\n",
      "  Using cached pandas-1.0.3-cp37-cp37m-macosx_10_9_x86_64.whl (10.0 MB)\n",
      "Requirement already satisfied: python-dateutil>=2.6.1 in ./matplotVenv/lib/python3.7/site-packages (from pandas) (2.8.1)\n",
      "Requirement already satisfied: numpy>=1.13.3 in ./matplotVenv/lib/python3.7/site-packages (from pandas) (1.18.3)\n",
      "Collecting pytz>=2017.2\n",
      "  Using cached pytz-2020.1-py2.py3-none-any.whl (510 kB)\n",
      "Requirement already satisfied: six>=1.5 in ./matplotVenv/lib/python3.7/site-packages (from python-dateutil>=2.6.1->pandas) (1.14.0)\n",
      "Installing collected packages: pytz, pandas\n",
      "Successfully installed pandas-1.0.3 pytz-2020.1\n"
     ]
    }
   ],
   "source": [
    "!pip install pandas"
   ]
  },
  {
   "cell_type": "code",
   "execution_count": 4,
   "metadata": {},
   "outputs": [
    {
     "name": "stdout",
     "output_type": "stream",
     "text": [
      "Collecting wheel\n",
      "  Using cached wheel-0.34.2-py2.py3-none-any.whl (26 kB)\n",
      "Installing collected packages: wheel\n",
      "Successfully installed wheel-0.34.2\n"
     ]
    }
   ],
   "source": [
    "!pip install wheel"
   ]
  },
  {
   "cell_type": "code",
   "execution_count": 9,
   "metadata": {},
   "outputs": [],
   "source": [
    "import matplotlib.pyplot as plt\n",
    "%matplotlib inline"
   ]
  },
  {
   "cell_type": "code",
   "execution_count": 10,
   "metadata": {},
   "outputs": [
    {
     "data": {
      "text/plain": [
       "array([51, 23, 89,  2, 44, 13, 53, 76, 92, 73, 56, 16])"
      ]
     },
     "execution_count": 10,
     "metadata": {},
     "output_type": "execute_result"
    }
   ],
   "source": [
    "import numpy as np\n",
    "data = np.random.randint(0,100,12)\n",
    "data"
   ]
  },
  {
   "cell_type": "code",
   "execution_count": 11,
   "metadata": {},
   "outputs": [
    {
     "data": {
      "text/plain": [
       "<BarContainer object of 12 artists>"
      ]
     },
     "execution_count": 11,
     "metadata": {},
     "output_type": "execute_result"
    },
    {
     "data": {
      "image/png": "[encoded data removed]",
      "text/plain": [
       "<Figure size 432x288 with 1 Axes>"
      ]
     },
     "metadata": {
      "needs_background": "light"
     },
     "output_type": "display_data"
    }
   ],
   "source": [
    "plt.bar(np.arange(len(data)), data)"
   ]
  },
  {
   "cell_type": "code",
   "execution_count": 14,
   "metadata": {},
   "outputs": [
    {
     "data": {
      "text/plain": [
       "(array([  8.,  17.,  51., 132., 221., 234., 196., 107.,  29.,   5.]),\n",
       " array([-3.2535787 , -2.6314735 , -2.00936829, -1.38726308, -0.76515788,\n",
       "        -0.14305267,  0.47905254,  1.10115774,  1.72326295,  2.34536816,\n",
       "         2.96747336]),\n",
       " <a list of 10 Patch objects>)"
      ]
     },
     "execution_count": 14,
     "metadata": {},
     "output_type": "execute_result"
    },
    {
     "data": {
      "image/png": "[encoded data removed]",
      "text/plain": [
       "<Figure size 432x288 with 1 Axes>"
      ]
     },
     "metadata": {
      "needs_background": "light"
     },
     "output_type": "display_data"
    }
   ],
   "source": [
    "data_hist = np.random.randn(1000)\n",
    "plt.hist(data_hist)"
   ]
  },
  {
   "cell_type": "code",
   "execution_count": 27,
   "metadata": {},
   "outputs": [
    {
     "data": {
      "text/plain": [
       "(array([39., 44., 50., 45., 41., 29., 35., 39., 49., 34., 39., 38., 33.,\n",
       "        34., 45., 46., 45., 43., 27., 38., 24., 48., 38., 41., 56.]),\n",
       " array([6.94431329e-04, 4.05786080e-02, 8.04627846e-02, 1.20346961e-01,\n",
       "        1.60231138e-01, 2.00115314e-01, 2.39999491e-01, 2.79883668e-01,\n",
       "        3.19767844e-01, 3.59652021e-01, 3.99536198e-01, 4.39420374e-01,\n",
       "        4.79304551e-01, 5.19188728e-01, 5.59072904e-01, 5.98957081e-01,\n",
       "        6.38841257e-01, 6.78725434e-01, 7.18609611e-01, 7.58493787e-01,\n",
       "        7.98377964e-01, 8.38262141e-01, 8.78146317e-01, 9.18030494e-01,\n",
       "        9.57914670e-01, 9.97798847e-01]),\n",
       " <a list of 25 Patch objects>)"
      ]
     },
     "execution_count": 27,
     "metadata": {},
     "output_type": "execute_result"
    },
    {
     "data": {
      "image/png": "[encoded data removed]",
      "text/plain": [
       "<Figure size 432x288 with 1 Axes>"
      ]
     },
     "metadata": {
      "needs_background": "light"
     },
     "output_type": "display_data"
    }
   ],
   "source": [
    "data_uniform = np.random.uniform(size=1000)\n",
    "plt.hist(data_uniform, bins=25)"
   ]
  },
  {
   "cell_type": "code",
   "execution_count": 29,
   "metadata": {},
   "outputs": [
    {
     "data": {
      "text/plain": [
       "(array([[  0.,   0.,   1.,   6.,   0.,   8.,   1.,   5.,   2.,   0.],\n",
       "        [  0.,   0.,   3.,  21.,  30.,  44.,  28.,  16.,   3.,   1.],\n",
       "        [  0.,   2.,  15.,  80., 163., 183., 109.,  56.,   1.,   3.],\n",
       "        [  0.,  14.,  60., 194., 424., 471., 312., 138.,  20.,   5.],\n",
       "        [  2.,  12., 106., 341., 650., 727., 500., 201.,  43.,  10.],\n",
       "        [  1.,  19., 112., 344., 619., 761., 509., 195.,  36.,   3.],\n",
       "        [  2.,  10.,  58., 205., 389., 493., 336., 120.,  19.,   1.],\n",
       "        [  0.,   4.,  22.,  74., 159., 169., 119.,  47.,  10.,   1.],\n",
       "        [  0.,   2.,   5.,  20.,  24.,  46.,  22.,   9.,   4.,   0.],\n",
       "        [  0.,   0.,   1.,   2.,   7.,   5.,   2.,   3.,   0.,   0.]]),\n",
       " array([-3.54679896, -2.83821625, -2.12963354, -1.42105082, -0.71246811,\n",
       "        -0.0038854 ,  0.70469731,  1.41328003,  2.12186274,  2.83044545,\n",
       "         3.53902816]),\n",
       " array([-3.99571461, -3.23858173, -2.48144885, -1.72431597, -0.96718308,\n",
       "        -0.2100502 ,  0.54708268,  1.30421556,  2.06134844,  2.81848133,\n",
       "         3.57561421]),\n",
       " <matplotlib.collections.QuadMesh at 0x1159f36a0>)"
      ]
     },
     "execution_count": 29,
     "metadata": {},
     "output_type": "execute_result"
    },
    {
     "data": {
      "image/png": "[encoded data removed]",
      "text/plain": [
       "<Figure size 432x288 with 1 Axes>"
      ]
     },
     "metadata": {
      "needs_background": "light"
     },
     "output_type": "display_data"
    }
   ],
   "source": [
    "plt.hist2d(np.random.randn(10000), np.random.randn(10000))"
   ]
  }
 ],
 "metadata": {
  "kernelspec": {
   "display_name": "Python 3",
   "language": "python",
   "name": "python3"
  },
  "language_info": {
   "codemirror_mode": {
    "name": "ipython",
    "version": 3
   },
   "file_extension": ".py",
   "mimetype": "text/x-python",
   "name": "python",
   "nbconvert_exporter": "python",
   "pygments_lexer": "ipython3",
   "version": "3.7.2"
  }
 },
 "nbformat": 4,
 "nbformat_minor": 4
}
